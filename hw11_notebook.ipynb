{
 "cells": [
  {
   "cell_type": "markdown",
   "metadata": {},
   "source": [
    "Домашнее задание\n",
    "по теме «Тестирование кода. Unit-тесты»"
   ]
  },
  {
   "cell_type": "markdown",
   "metadata": {},
   "source": [
    "Задача 1 Тестирование методов класса"
   ]
  },
  {
   "cell_type": "markdown",
   "metadata": {},
   "source": [
    "Пример проверки методов без модульных тестов:"
   ]
  },
  {
   "cell_type": "code",
   "execution_count": 16,
   "metadata": {},
   "outputs": [],
   "source": [
    "from task_1 import BooksCollector\n",
    "collector = BooksCollector()\n",
    "\n",
    "# Добавление книг\n",
    "collector.add_new_book('Властелин колец')\n",
    "collector.add_new_book('Гарри Поттер')\n",
    "collector.add_new_book('Матрица')\n",
    "\n",
    "# Установка жанров для книг\n",
    "collector.set_book_genre('Властелин колец', 'Фантастика')\n",
    "collector.set_book_genre('Гарри Поттер', 'Фэнтези')\n",
    "collector.set_book_genre('Матрица', 'Научная фантастика')\n",
    "\n",
    "# Установка возрастных рейтингов для жанров\n",
    "collector.set_age_rating('Фантастика', '10+')\n",
    "collector.set_age_rating('Фэнтези', '6+')\n",
    "collector.set_age_rating('Научная фантастика', '14+')\n"
   ]
  },
  {
   "cell_type": "code",
   "execution_count": 17,
   "metadata": {},
   "outputs": [
    {
     "name": "stdout",
     "output_type": "stream",
     "text": [
      "Жанры:\n",
      "Властелин колец - Фантастика\n",
      "Гарри Поттер - Фэнтези\n",
      "Матрица - Научная фантастика\n"
     ]
    }
   ],
   "source": [
    "# Получение жанров\n",
    "print('Жанры:')\n",
    "print(f'Властелин колец - {collector.get_book_genre('Властелин колец')}')\n",
    "print(f'Гарри Поттер - {collector.get_book_genre('Гарри Поттер')}')\n",
    "print(f'Матрица - {collector.get_book_genre('Матрица')}')"
   ]
  },
  {
   "cell_type": "code",
   "execution_count": 18,
   "metadata": {},
   "outputs": [
    {
     "name": "stdout",
     "output_type": "stream",
     "text": [
      "Возрастные ограничения:\n",
      "Фантастика - 10+\n",
      "Фэнтези - 6+\n",
      "Научная фантастика - 14+\n"
     ]
    }
   ],
   "source": [
    "# Получение возрастных ограничений жанров\n",
    "print('Возрастные ограничения:')\n",
    "print(f'Фантастика - {collector.get_age_rating('Фантастика')}')\n",
    "print(f'Фэнтези - {collector.get_age_rating('Фэнтези')}')\n",
    "print(f'Научная фантастика - {collector.get_age_rating('Научная фантастика')}')"
   ]
  },
  {
   "cell_type": "code",
   "execution_count": 19,
   "metadata": {},
   "outputs": [
    {
     "name": "stdout",
     "output_type": "stream",
     "text": [
      "Книги в жанре Фантастики: ['Властелин колец']\n",
      "Все книги и их жанры: {'Властелин колец': 'Фантастика', 'Гарри Поттер': 'Фэнтези', 'Матрица': 'Научная фантастика'}\n",
      "Книги, подходящие для детей (до 10 лет): ['Властелин колец', 'Гарри Поттер']\n",
      "Список избранных книг: ['Властелин колец']\n"
     ]
    }
   ],
   "source": [
    "\n",
    "# Получение книг определенного жанра\n",
    "fantasy_books = collector.get_books_with_specific_genre('Фантастика')\n",
    "print(f'Книги в жанре Фантастики: {fantasy_books}')\n",
    "\n",
    "# Получение всех книг жанра\n",
    "all_books = collector.get_books_genre()\n",
    "print(f'Все книги и их жанры: {all_books}')\n",
    "\n",
    "# Получение книг для детей\n",
    "children_books = collector.get_books_for_children(max_age=10)\n",
    "print(f'Книги, подходящие для детей (до 10 лет): {children_books}')\n",
    "\n",
    "# Добавление в избранное\n",
    "collector.add_book_in_favorites('Властелин колец')\n",
    "collector.add_book_in_favorites('Гарри Поттер')\n",
    "# Удаление из избранного\n",
    "collector.delete_book_from_favorites('Гарри Поттер')\n",
    "\n",
    "# Получение списка избранных\n",
    "favorites_list = collector.get_list_of_favorites_books()\n",
    "print('Список избранных книг:', favorites_list)\n"
   ]
  },
  {
   "cell_type": "markdown",
   "metadata": {},
   "source": [
    "Задача 2 Работа с “подменными” объектами"
   ]
  },
  {
   "cell_type": "markdown",
   "metadata": {},
   "source": [
    "Проверка методов без модульных тестов:"
   ]
  },
  {
   "cell_type": "code",
   "execution_count": 20,
   "metadata": {},
   "outputs": [],
   "source": [
    "from task_2 import CreditCard, PaymentForm\n",
    "card = CreditCard('1111-1111-1111-1111','IVAN PETROV', '12/25','123')"
   ]
  },
  {
   "cell_type": "code",
   "execution_count": 21,
   "metadata": {},
   "outputs": [
    {
     "name": "stdout",
     "output_type": "stream",
     "text": [
      "Карта: 1111-1111-1111-1111\n",
      "Владелец: IVAN PETROV\n",
      "Срок действия: 12/25\n",
      "CVC: 123\n"
     ]
    }
   ],
   "source": [
    "print(f\"Карта: {card.get_card_number()}\") # Вывод номера карты\n",
    "print(f\"Владелец: {card.get_card_holder()}\") # вывод владельца карты\n",
    "print(f\"Срок действия: {card.get_expiry_date()}\") # Вывод срока действия карты\n",
    "print(f\"CVC: {card.get_cvv()}\") # Вывод CVC кода карты"
   ]
  },
  {
   "cell_type": "code",
   "execution_count": 22,
   "metadata": {},
   "outputs": [
    {
     "name": "stdout",
     "output_type": "stream",
     "text": [
      "Сумма 100.0 успешно списана.\n"
     ]
    }
   ],
   "source": [
    "# Обработка платежа\n",
    "amount = 100.00\n",
    "payment_form = PaymentForm(card)\n",
    "result = payment_form.pay(amount)\n",
    "print(result)"
   ]
  },
  {
   "cell_type": "code",
   "execution_count": 23,
   "metadata": {},
   "outputs": [
    {
     "name": "stdout",
     "output_type": "stream",
     "text": [
      "Ошибка при попытке чрезмерного списания: Сумма превышает лимит\n"
     ]
    }
   ],
   "source": [
    "# Попытка чрезмерного списания\n",
    "try:\n",
    "    card.charge(1500.00) # Это вызовет исключение\n",
    "except Exception as e:\n",
    "    print(f\"Ошибка при попытке чрезмерного списания: {e}\")"
   ]
  },
  {
   "cell_type": "code",
   "execution_count": 24,
   "metadata": {},
   "outputs": [
    {
     "name": "stdout",
     "output_type": "stream",
     "text": [
      "Сумма 50.0 успешно списана.\n"
     ]
    }
   ],
   "source": [
    "# Успешный платеж\n",
    "result = payment_form.pay(50.00)\n",
    "print(result)"
   ]
  },
  {
   "cell_type": "markdown",
   "metadata": {},
   "source": [
    "Реализация модульного тестирования для задач 1 и 2 находится в файлах: test_task_1.py, test_task_2.py\n",
    "Скрин результатов:\n",
    "![Моё изображение](scr/scr1.png)"
   ]
  }
 ],
 "metadata": {
  "kernelspec": {
   "display_name": "Python 3",
   "language": "python",
   "name": "python3"
  },
  "language_info": {
   "codemirror_mode": {
    "name": "ipython",
    "version": 3
   },
   "file_extension": ".py",
   "mimetype": "text/x-python",
   "name": "python",
   "nbconvert_exporter": "python",
   "pygments_lexer": "ipython3",
   "version": "3.13.0"
  }
 },
 "nbformat": 4,
 "nbformat_minor": 2
}
